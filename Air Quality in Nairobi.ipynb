{
 "cells": [
  {
   "cell_type": "markdown",
   "id": "864dd4d2",
   "metadata": {},
   "source": [
    "# ARMA Models and Hyperparameter tunning\n",
    "## (Auto Regressive Moving Average Model"
   ]
  },
  {
   "cell_type": "markdown",
   "id": "acd855cd",
   "metadata": {},
   "source": [
    "# Hyperparameter tunning\n",
    "#### Parts of model that the data scientist sets before training and that controls the learning process"
   ]
  },
  {
   "cell_type": "code",
   "execution_count": null,
   "id": "52c42440",
   "metadata": {},
   "outputs": [],
   "source": [
    "import inspect\n",
    "import time\n",
    "import matplotlib.pyplot as plt\n",
    "import pandas as pd\n",
    "import plotly.express as px\n",
    "import seaborn as sns\n",
    "from pymongo import MongoClient\n",
    "from sklearn.metrics import mean_absolute_error\n",
    "from statsmodels.graphics.tsaplots import plot_acf, plot_pacf\n",
    "from statsmodels.tsa.arima.model import ARIMA"
   ]
  },
  {
   "cell_type": "markdown",
   "id": "53ef9baa",
   "metadata": {},
   "source": [
    "# 1. Prepare Data\n",
    "## 1.1. Import"
   ]
  },
  {
   "cell_type": "markdown",
   "id": "3532d6af",
   "metadata": {},
   "source": [
    "<b> Creating a client to connect to the MongoDB server, then assign the \"air-quality\" database to db, and the \"nairobi\" collection to nairobi.</b>"
   ]
  },
  {
   "cell_type": "code",
   "execution_count": null,
   "id": "1b533c6f",
   "metadata": {},
   "outputs": [],
   "source": [
    "client = MongoClient(host=\"localhost\",port=27017)\n",
    "db = client[\"air-quality\"]\n",
    "nairobi = db[\"nairobi\"]"
   ]
  },
  {
   "cell_type": "code",
   "execution_count": null,
   "id": "f2b12422",
   "metadata": {},
   "outputs": [],
   "source": [
    "def wrangle(collection):\n",
    "\n",
    "    results = collection.find(\n",
    "        {\"metadata.site\": 29, \"metadata.measurement\": \"P2\"},\n",
    "        projection={\"P2\": 1, \"timestamp\": 1, \"_id\": 0},\n",
    "    )\n",
    "\n",
    "    # Read results into DataFrame\n",
    "    df = pd.DataFrame(list(results)).set_index(\"timestamp\")\n",
    "\n",
    "    # Localize timezone\n",
    "    df.index = df.index.tz_localize(\"UTC\").tz_convert(\"Africa/Nairobi\")\n",
    "\n",
    "    # Remove outliers\n",
    "    df = df[df[\"P2\"] < 500]\n",
    "\n",
    "    # Resample and forward-fill\n",
    "    y = ...\n",
    "\n",
    "    return y"
   ]
  },
  {
   "cell_type": "code",
   "execution_count": null,
   "id": "d4a85c87",
   "metadata": {},
   "outputs": [],
   "source": [
    "y = wrangle(nairobi)\n",
    "y.head()"
   ]
  },
  {
   "cell_type": "markdown",
   "id": "22dd2381",
   "metadata": {},
   "source": [
    "# 1.2. Explore"
   ]
  },
  {
   "cell_type": "code",
   "execution_count": null,
   "id": "be9e6672",
   "metadata": {},
   "outputs": [],
   "source": [
    "fig, ax =plt.subplots(figsize=(15,6))\n",
    "plot_acf(y, ax=ax)\n",
    "plt.xlabel(\"Lag [hours]\")\n",
    "plt.ylabel(\"Correlation Coefficient\");"
   ]
  },
  {
   "cell_type": "code",
   "execution_count": null,
   "id": "65edc9a4",
   "metadata": {},
   "outputs": [],
   "source": [
    "fig, ax =plt.subplots(figsize=(15,6))\n",
    "plot_pacf(y, ax=ax)\n",
    "plt.xlabel(\"Lag [hours]\")\n",
    "plt.ylabel(\"Correlation Coefficient\");"
   ]
  },
  {
   "cell_type": "markdown",
   "id": "3ea9c2eb",
   "metadata": {},
   "source": [
    "# 1.3. Split"
   ]
  },
  {
   "cell_type": "code",
   "execution_count": null,
   "id": "1c7110a1",
   "metadata": {},
   "outputs": [],
   "source": [
    "y_train = y.loc[\"2018-10-01\":\"2018-10-31\"]\n",
    "y_test = y.loc[\"2018-11-01\"]"
   ]
  },
  {
   "cell_type": "markdown",
   "id": "109d295b",
   "metadata": {},
   "source": [
    "# 2. Build Model\n",
    "## 2.1. Baseline"
   ]
  },
  {
   "cell_type": "code",
   "execution_count": null,
   "id": "788823d8",
   "metadata": {},
   "outputs": [],
   "source": [
    "y_train_mean = y_train.mean()\n",
    "y_pred_baseline = [y_train_mean] * len(y_train)\n",
    "mae_baseline = mean_absolute_error(y_train,y_pred_baseline)\n",
    "print(\"Mean P2 Reading:\", round(y_train_mean, 2))\n",
    "print(\"Baseline MAE:\", round(mae_baseline, 2))"
   ]
  },
  {
   "cell_type": "markdown",
   "id": "dcb0e98c",
   "metadata": {},
   "source": [
    "# 2.2. Iterate"
   ]
  },
  {
   "cell_type": "code",
   "execution_count": null,
   "id": "a21e5c65",
   "metadata": {},
   "outputs": [],
   "source": [
    "p_params = range(0,25,8)    #p_params being lags for the AR part of the model\n",
    "q_params = range(0,3,1)     #q_params being lags for the MA part of the model"
   ]
  },
  {
   "cell_type": "code",
   "execution_count": null,
   "id": "b17234b2",
   "metadata": {},
   "outputs": [],
   "source": [
    "# Create dictionary to store MAEs\n",
    "mae_grid = dict()\n",
    "# Outer loop: Iterate through possible values for `p`\n",
    "for p in p_params:\n",
    "    # Create key-value pair in dict. Key is `p`, value is empty list.\n",
    "    mae_grid[p] = list()\n",
    "    # Inner loop: Iterate through possible values for `q`\n",
    "    for q in q_params:\n",
    "        # Combination of hyperparameters for model\n",
    "        order = (p, 0, q)\n",
    "        # Note start time\n",
    "        start_time = time.time()\n",
    "        # Train model\n",
    "        model = ARIMA(y_train,order = order).fit()\n",
    "        # Calculate model training time\n",
    "        elapsed_time = round(time.time() - start_time, 2)\n",
    "        print(f\"Trained ARIMA {order} in {elapsed_time} seconds.\")\n",
    "        # Generate in-sample (training) predictions\n",
    "        y_pred = model.predict()\n",
    "        # Calculate training MAE\n",
    "        mae = mean_absolute_error(y_train,y_pred)\n",
    "        # Append MAE to list in dictionary\n",
    "        mae_grid[p].append(mae)\n",
    "\n",
    "print()\n",
    "print(mae_grid)"
   ]
  },
  {
   "cell_type": "code",
   "execution_count": null,
   "id": "1f1e8c45",
   "metadata": {},
   "outputs": [],
   "source": [
    "mae_df = pd.DataFrame(mae_grid)\n",
    "mae_df.round(4)"
   ]
  },
  {
   "cell_type": "code",
   "execution_count": null,
   "id": "66aaae87",
   "metadata": {},
   "outputs": [],
   "source": [
    "sns.heatmap(mae_df, cmap = \"Blues\")\n",
    "plt.xlabel(\"p values\")\n",
    "plt.ylabel(\"q values\")\n",
    "plt.title(\"ARMA Grid Search (Criterion: MAE)\")"
   ]
  },
  {
   "cell_type": "code",
   "execution_count": null,
   "id": "84e53ab2",
   "metadata": {},
   "outputs": [],
   "source": [
    "fig, ax = plt.subplots(figsize=(15, 12))\n",
    "model.plot_diagnostics(fig=fig)"
   ]
  },
  {
   "cell_type": "markdown",
   "id": "c33c2a75",
   "metadata": {},
   "source": [
    "# 2.3. Evaluate"
   ]
  },
  {
   "cell_type": "code",
   "execution_count": null,
   "id": "36473937",
   "metadata": {},
   "outputs": [],
   "source": [
    "y_pred_wfv = pd.Series()\n",
    "history = y_train.copy()\n",
    "for i in range(len(y_test)):\n",
    "    model = ARIMA(history, order=(8,0,1)).fit()\n",
    "    next_pred = model.forecast()\n",
    "    y_pred_wfv = y_pred_wfv.append(next_pred)\n",
    "    history = history.append(y_test[next_pred.index])"
   ]
  },
  {
   "cell_type": "code",
   "execution_count": null,
   "id": "76a8371d",
   "metadata": {},
   "outputs": [],
   "source": [
    "test_mae = mean_absolute_error(y_test,y_pred_wfv)\n",
    "print(\"Test MAE (walk forward validation):\", round(test_mae, 2))"
   ]
  },
  {
   "cell_type": "markdown",
   "id": "62068a24",
   "metadata": {},
   "source": [
    "# 3. Communicate Results"
   ]
  },
  {
   "cell_type": "code",
   "execution_count": null,
   "id": "f2f0c898",
   "metadata": {},
   "outputs": [],
   "source": [
    "df_predictions = pd.DataFrame({\"y_test\":y_test, \"y_pred_wfv\": y_pred_wfv})\n",
    "fig = px.line(df_predictions, labels={\"value\":\"PM2.5\"})\n",
    "fig.show()"
   ]
  }
 ],
 "metadata": {
  "kernelspec": {
   "display_name": "Python 3",
   "language": "python",
   "name": "python3"
  },
  "language_info": {
   "codemirror_mode": {
    "name": "ipython",
    "version": 3
   },
   "file_extension": ".py",
   "mimetype": "text/x-python",
   "name": "python",
   "nbconvert_exporter": "python",
   "pygments_lexer": "ipython3",
   "version": "3.8.8"
  }
 },
 "nbformat": 4,
 "nbformat_minor": 5
}
